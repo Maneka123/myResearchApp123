{
 "cells": [
  {
   "cell_type": "code",
   "execution_count": 1,
   "id": "16671928",
   "metadata": {},
   "outputs": [],
   "source": [
    "# Import necessary libraries\n",
    "import pandas as pd\n",
    "from sklearn.model_selection import train_test_split\n",
    "from sklearn.tree import DecisionTreeClassifier\n",
    "from sklearn.preprocessing import MultiLabelBinarizer\n",
    "from sklearn.metrics import accuracy_score"
   ]
  },
  {
   "cell_type": "code",
   "execution_count": 2,
   "id": "34027f22",
   "metadata": {},
   "outputs": [],
   "source": [
    "# Load the dataset\n",
    "data = pd.read_csv('medical_data.csv')"
   ]
  },
  {
   "cell_type": "code",
   "execution_count": 3,
   "id": "be0ca817",
   "metadata": {},
   "outputs": [
    {
     "data": {
      "text/html": [
       "<div>\n",
       "<style scoped>\n",
       "    .dataframe tbody tr th:only-of-type {\n",
       "        vertical-align: middle;\n",
       "    }\n",
       "\n",
       "    .dataframe tbody tr th {\n",
       "        vertical-align: top;\n",
       "    }\n",
       "\n",
       "    .dataframe thead th {\n",
       "        text-align: right;\n",
       "    }\n",
       "</style>\n",
       "<table border=\"1\" class=\"dataframe\">\n",
       "  <thead>\n",
       "    <tr style=\"text-align: right;\">\n",
       "      <th></th>\n",
       "      <th>Symptom1</th>\n",
       "      <th>Symptom2</th>\n",
       "      <th>Symptom3</th>\n",
       "      <th>Symptom4</th>\n",
       "      <th>Symptom5</th>\n",
       "      <th>Symptom6</th>\n",
       "      <th>Symptom7</th>\n",
       "      <th>Symptom8</th>\n",
       "      <th>Symptom9</th>\n",
       "      <th>Symptom10</th>\n",
       "      <th>...</th>\n",
       "      <th>Symptom44</th>\n",
       "      <th>Symptom45</th>\n",
       "      <th>Symptom46</th>\n",
       "      <th>Symptom47</th>\n",
       "      <th>Symptom48</th>\n",
       "      <th>Symptom49</th>\n",
       "      <th>Symptom50</th>\n",
       "      <th>Symptom51</th>\n",
       "      <th>Symptom52</th>\n",
       "      <th>Disease</th>\n",
       "    </tr>\n",
       "  </thead>\n",
       "  <tbody>\n",
       "    <tr>\n",
       "      <th>0</th>\n",
       "      <td>lumps</td>\n",
       "      <td>bad breath</td>\n",
       "      <td>listlessness</td>\n",
       "      <td>lethergy</td>\n",
       "      <td>weight loss</td>\n",
       "      <td>diarrhea</td>\n",
       "      <td>vomitting</td>\n",
       "      <td>none</td>\n",
       "      <td>none</td>\n",
       "      <td>none</td>\n",
       "      <td>...</td>\n",
       "      <td>none</td>\n",
       "      <td>none</td>\n",
       "      <td>none</td>\n",
       "      <td>none</td>\n",
       "      <td>none</td>\n",
       "      <td>none</td>\n",
       "      <td>none</td>\n",
       "      <td>none</td>\n",
       "      <td>none</td>\n",
       "      <td>Squamous cell carcinoma</td>\n",
       "    </tr>\n",
       "    <tr>\n",
       "      <th>1</th>\n",
       "      <td>none</td>\n",
       "      <td>bad breath</td>\n",
       "      <td>listlessness</td>\n",
       "      <td>lethergy</td>\n",
       "      <td>weight loss</td>\n",
       "      <td>diarrhea</td>\n",
       "      <td>vomitting</td>\n",
       "      <td>none</td>\n",
       "      <td>none</td>\n",
       "      <td>none</td>\n",
       "      <td>...</td>\n",
       "      <td>none</td>\n",
       "      <td>none</td>\n",
       "      <td>none</td>\n",
       "      <td>none</td>\n",
       "      <td>none</td>\n",
       "      <td>none</td>\n",
       "      <td>none</td>\n",
       "      <td>none</td>\n",
       "      <td>none</td>\n",
       "      <td>Squamous cell carcinoma</td>\n",
       "    </tr>\n",
       "    <tr>\n",
       "      <th>2</th>\n",
       "      <td>lumps</td>\n",
       "      <td>none</td>\n",
       "      <td>listlessness</td>\n",
       "      <td>lethergy</td>\n",
       "      <td>weight loss</td>\n",
       "      <td>diarrhea</td>\n",
       "      <td>vomitting</td>\n",
       "      <td>none</td>\n",
       "      <td>none</td>\n",
       "      <td>none</td>\n",
       "      <td>...</td>\n",
       "      <td>none</td>\n",
       "      <td>none</td>\n",
       "      <td>none</td>\n",
       "      <td>none</td>\n",
       "      <td>none</td>\n",
       "      <td>none</td>\n",
       "      <td>none</td>\n",
       "      <td>none</td>\n",
       "      <td>none</td>\n",
       "      <td>Squamous cell carcinoma</td>\n",
       "    </tr>\n",
       "    <tr>\n",
       "      <th>3</th>\n",
       "      <td>lumps</td>\n",
       "      <td>bad breath</td>\n",
       "      <td>none</td>\n",
       "      <td>lethergy</td>\n",
       "      <td>weight loss</td>\n",
       "      <td>diarrhea</td>\n",
       "      <td>vomitting</td>\n",
       "      <td>none</td>\n",
       "      <td>none</td>\n",
       "      <td>none</td>\n",
       "      <td>...</td>\n",
       "      <td>none</td>\n",
       "      <td>none</td>\n",
       "      <td>none</td>\n",
       "      <td>none</td>\n",
       "      <td>none</td>\n",
       "      <td>none</td>\n",
       "      <td>none</td>\n",
       "      <td>none</td>\n",
       "      <td>none</td>\n",
       "      <td>Squamous cell carcinoma</td>\n",
       "    </tr>\n",
       "    <tr>\n",
       "      <th>4</th>\n",
       "      <td>lumps</td>\n",
       "      <td>bad breath</td>\n",
       "      <td>listlessness</td>\n",
       "      <td>none</td>\n",
       "      <td>weight loss</td>\n",
       "      <td>diarrhea</td>\n",
       "      <td>vomitting</td>\n",
       "      <td>none</td>\n",
       "      <td>none</td>\n",
       "      <td>none</td>\n",
       "      <td>...</td>\n",
       "      <td>none</td>\n",
       "      <td>none</td>\n",
       "      <td>none</td>\n",
       "      <td>none</td>\n",
       "      <td>none</td>\n",
       "      <td>none</td>\n",
       "      <td>none</td>\n",
       "      <td>none</td>\n",
       "      <td>none</td>\n",
       "      <td>Squamous cell carcinoma</td>\n",
       "    </tr>\n",
       "  </tbody>\n",
       "</table>\n",
       "<p>5 rows × 53 columns</p>\n",
       "</div>"
      ],
      "text/plain": [
       "  Symptom1    Symptom2      Symptom3  Symptom4     Symptom5  Symptom6  \\\n",
       "0    lumps  bad breath  listlessness  lethergy  weight loss  diarrhea   \n",
       "1     none  bad breath  listlessness  lethergy  weight loss  diarrhea   \n",
       "2    lumps        none  listlessness  lethergy  weight loss  diarrhea   \n",
       "3    lumps  bad breath          none  lethergy  weight loss  diarrhea   \n",
       "4    lumps  bad breath  listlessness      none  weight loss  diarrhea   \n",
       "\n",
       "    Symptom7 Symptom8 Symptom9 Symptom10  ... Symptom44 Symptom45 Symptom46  \\\n",
       "0  vomitting     none     none      none  ...      none      none      none   \n",
       "1  vomitting     none     none      none  ...      none      none      none   \n",
       "2  vomitting     none     none      none  ...      none      none      none   \n",
       "3  vomitting     none     none      none  ...      none      none      none   \n",
       "4  vomitting     none     none      none  ...      none      none      none   \n",
       "\n",
       "  Symptom47 Symptom48 Symptom49 Symptom50 Symptom51 Symptom52  \\\n",
       "0      none      none      none      none      none      none   \n",
       "1      none      none      none      none      none      none   \n",
       "2      none      none      none      none      none      none   \n",
       "3      none      none      none      none      none      none   \n",
       "4      none      none      none      none      none      none   \n",
       "\n",
       "                   Disease  \n",
       "0  Squamous cell carcinoma  \n",
       "1  Squamous cell carcinoma  \n",
       "2  Squamous cell carcinoma  \n",
       "3  Squamous cell carcinoma  \n",
       "4  Squamous cell carcinoma  \n",
       "\n",
       "[5 rows x 53 columns]"
      ]
     },
     "execution_count": 3,
     "metadata": {},
     "output_type": "execute_result"
    }
   ],
   "source": [
    "data.head()"
   ]
  },
  {
   "cell_type": "code",
   "execution_count": 4,
   "id": "a2efedd7",
   "metadata": {},
   "outputs": [],
   "source": [
    "# Preprocess the dataset"
   ]
  },
  {
   "cell_type": "code",
   "execution_count": 5,
   "id": "506b05ab",
   "metadata": {},
   "outputs": [],
   "source": [
    "symptom_features = list(set(data[['Symptom1', 'Symptom2', 'Symptom3', 'Symptom4', 'Symptom5', 'Symptom6', 'Symptom7', 'Symptom8', 'Symptom9', 'Symptom10', 'Symptom11', 'Symptom12', 'Symptom13', 'Symptom14', 'Symptom15', 'Symptom16', 'Symptom17', 'Symptom18', 'Symptom19', 'Symptom20', 'Symptom21', 'Symptom22', 'Symptom23', 'Symptom24', 'Symptom25', 'Symptom26', 'Symptom27', 'Symptom28', 'Symptom29', 'Symptom30', 'Symptom31', 'Symptom32', 'Symptom33', 'Symptom34', 'Symptom35', 'Symptom36', 'Symptom37', 'Symptom38', 'Symptom39', 'Symptom40', 'Symptom41', 'Symptom42', 'Symptom43', 'Symptom44', 'Symptom45', 'Symptom46', 'Symptom47', 'Symptom48', 'Symptom49', 'Symptom50', 'Symptom51', 'Symptom52']].values.ravel()))"
   ]
  },
  {
   "cell_type": "code",
   "execution_count": 6,
   "id": "b5ebd952",
   "metadata": {},
   "outputs": [],
   "source": [
    "data[['Symptom1', 'Symptom2', 'Symptom3', 'Symptom4', 'Symptom5', 'Symptom6', 'Symptom7', 'Symptom8', 'Symptom9', 'Symptom10', 'Symptom11', 'Symptom12', 'Symptom13', 'Symptom14', 'Symptom15', 'Symptom16', 'Symptom17', 'Symptom18', 'Symptom19', 'Symptom20', 'Symptom21', 'Symptom22', 'Symptom23', 'Symptom24', 'Symptom25', 'Symptom26', 'Symptom27', 'Symptom28', 'Symptom29', 'Symptom30', 'Symptom31', 'Symptom32', 'Symptom33', 'Symptom34', 'Symptom35', 'Symptom36', 'Symptom37', 'Symptom38', 'Symptom39', 'Symptom40', 'Symptom41', 'Symptom42', 'Symptom43', 'Symptom44', 'Symptom45', 'Symptom46', 'Symptom47', 'Symptom48', 'Symptom49', 'Symptom50', 'Symptom51', 'Symptom52']] = data[['Symptom1', 'Symptom2', 'Symptom3', 'Symptom4', 'Symptom5', 'Symptom6', 'Symptom7', 'Symptom8', 'Symptom9', 'Symptom10', 'Symptom11', 'Symptom12', 'Symptom13', 'Symptom14', 'Symptom15', 'Symptom16', 'Symptom17', 'Symptom18', 'Symptom19', 'Symptom20', 'Symptom21', 'Symptom22', 'Symptom23', 'Symptom24', 'Symptom25', 'Symptom26', 'Symptom27', 'Symptom28', 'Symptom29', 'Symptom30', 'Symptom31', 'Symptom32', 'Symptom33', 'Symptom34', 'Symptom35', 'Symptom36', 'Symptom37', 'Symptom38', 'Symptom39', 'Symptom40', 'Symptom41', 'Symptom42', 'Symptom43', 'Symptom44', 'Symptom45', 'Symptom46', 'Symptom47', 'Symptom48', 'Symptom49', 'Symptom50', 'Symptom51', 'Symptom52']].apply(lambda x: x.str.split(','))"
   ]
  },
  {
   "cell_type": "code",
   "execution_count": 7,
   "id": "5f194427",
   "metadata": {},
   "outputs": [],
   "source": [
    "data[['Symptom1', 'Symptom2', 'Symptom3', 'Symptom4', 'Symptom5', 'Symptom6', 'Symptom7', 'Symptom8', 'Symptom9', 'Symptom10', 'Symptom11', 'Symptom12', 'Symptom13', 'Symptom14', 'Symptom15', 'Symptom16', 'Symptom17', 'Symptom18', 'Symptom19', 'Symptom20', 'Symptom21', 'Symptom22', 'Symptom23', 'Symptom24', 'Symptom25', 'Symptom26', 'Symptom27', 'Symptom28', 'Symptom29', 'Symptom30', 'Symptom31', 'Symptom32', 'Symptom33', 'Symptom34', 'Symptom35', 'Symptom36', 'Symptom37', 'Symptom38', 'Symptom39', 'Symptom40', 'Symptom41', 'Symptom42', 'Symptom43', 'Symptom44', 'Symptom45', 'Symptom46', 'Symptom47', 'Symptom48', 'Symptom49', 'Symptom50', 'Symptom51', 'Symptom52']] = data[['Symptom1', 'Symptom2', 'Symptom3', 'Symptom4', 'Symptom5', 'Symptom6', 'Symptom7', 'Symptom8', 'Symptom9', 'Symptom10', 'Symptom11', 'Symptom12', 'Symptom13', 'Symptom14', 'Symptom15', 'Symptom16', 'Symptom17', 'Symptom18', 'Symptom19', 'Symptom20', 'Symptom21', 'Symptom22', 'Symptom23', 'Symptom24', 'Symptom25', 'Symptom26', 'Symptom27', 'Symptom28', 'Symptom29', 'Symptom30', 'Symptom31', 'Symptom32', 'Symptom33', 'Symptom34', 'Symptom35', 'Symptom36', 'Symptom37', 'Symptom38', 'Symptom39', 'Symptom40', 'Symptom41', 'Symptom42', 'Symptom43', 'Symptom44', 'Symptom45', 'Symptom46', 'Symptom47', 'Symptom48', 'Symptom49', 'Symptom50', 'Symptom51', 'Symptom52']].apply(lambda x: [item for sublist in x for item in sublist])"
   ]
  },
  {
   "cell_type": "code",
   "execution_count": 8,
   "id": "753c30db",
   "metadata": {},
   "outputs": [],
   "source": [
    "symptoms = data[['Symptom1', 'Symptom2', 'Symptom3', 'Symptom4', 'Symptom5', 'Symptom6', 'Symptom7', 'Symptom8', 'Symptom9', 'Symptom10', 'Symptom11', 'Symptom12', 'Symptom13', 'Symptom14', 'Symptom15', 'Symptom16', 'Symptom17', 'Symptom18', 'Symptom19', 'Symptom20', 'Symptom21', 'Symptom22', 'Symptom23', 'Symptom24', 'Symptom25', 'Symptom26', 'Symptom27', 'Symptom28', 'Symptom29', 'Symptom30', 'Symptom31', 'Symptom32', 'Symptom33', 'Symptom34', 'Symptom35', 'Symptom36', 'Symptom37', 'Symptom38', 'Symptom39', 'Symptom40', 'Symptom41', 'Symptom42', 'Symptom43', 'Symptom44', 'Symptom45', 'Symptom46', 'Symptom47', 'Symptom48', 'Symptom49', 'Symptom50', 'Symptom51', 'Symptom52']].values.tolist()"
   ]
  },
  {
   "cell_type": "code",
   "execution_count": 9,
   "id": "e0651424",
   "metadata": {},
   "outputs": [],
   "source": [
    "# Initialize a MultiLabelBinarizer for one-hot encoding\n",
    "mlb = MultiLabelBinarizer(classes=symptom_features)\n",
    "mlb.fit(symptoms)\n",
    "symptoms_encoded = mlb.transform(symptoms)"
   ]
  },
  {
   "cell_type": "code",
   "execution_count": 10,
   "id": "14f36180",
   "metadata": {},
   "outputs": [],
   "source": [
    "# One-hot encoded symptoms\n",
    "X = pd.DataFrame(symptoms_encoded, columns=mlb.classes_)\n",
    "y = data['Disease']"
   ]
  },
  {
   "cell_type": "code",
   "execution_count": 11,
   "id": "290188b7",
   "metadata": {},
   "outputs": [],
   "source": [
    "# Split the data into training and testing sets\n",
    "X_train, X_test, y_train, y_test = train_test_split(X, y, test_size=0.2, random_state=42)"
   ]
  },
  {
   "cell_type": "code",
   "execution_count": 12,
   "id": "29a1698f",
   "metadata": {},
   "outputs": [
    {
     "data": {
      "text/plain": [
       "DecisionTreeClassifier()"
      ]
     },
     "execution_count": 12,
     "metadata": {},
     "output_type": "execute_result"
    }
   ],
   "source": [
    "# Create a decision tree classifier\n",
    "classifier = DecisionTreeClassifier()\n",
    "classifier.fit(X_train, y_train)"
   ]
  },
  {
   "cell_type": "code",
   "execution_count": 13,
   "id": "ef7527eb",
   "metadata": {},
   "outputs": [],
   "source": [
    "# Predict the labels for the test set\n",
    "y_pred = classifier.predict(X_test)"
   ]
  },
  {
   "cell_type": "code",
   "execution_count": 14,
   "id": "1ac2643b",
   "metadata": {},
   "outputs": [
    {
     "name": "stdout",
     "output_type": "stream",
     "text": [
      "Accuracy: 79.17%\n"
     ]
    }
   ],
   "source": [
    "# Calculate accuracy\n",
    "accuracy = accuracy_score(y_test, y_pred)\n",
    "print(f'Accuracy: {accuracy * 100:.2f}%')"
   ]
  },
  {
   "cell_type": "code",
   "execution_count": 15,
   "id": "17920cc5",
   "metadata": {},
   "outputs": [],
   "source": [
    "from sklearn.metrics import classification_report"
   ]
  },
  {
   "cell_type": "code",
   "execution_count": 16,
   "id": "3696da1a",
   "metadata": {},
   "outputs": [
    {
     "name": "stdout",
     "output_type": "stream",
     "text": [
      "                               precision    recall  f1-score   support\n",
      "\n",
      "                     Diabetes       0.50      1.00      0.67         1\n",
      "Feline Immunodeficiency Virus       1.00      1.00      1.00         1\n",
      "        Feline Leukemia Virus       1.00      1.00      1.00         2\n",
      "                   Gingivitis       1.00      1.00      1.00         3\n",
      "                    Heartworm       1.00      1.00      1.00         2\n",
      "              Hyperthyroidism       0.00      0.00      0.00         1\n",
      "                Lymphosarcoma       1.00      0.50      0.67         2\n",
      "                 Pancreatitis       0.50      0.50      0.50         2\n",
      "                Periodontitis       1.00      0.67      0.80         3\n",
      "                       Rabies       0.00      0.00      0.00         1\n",
      "                     Ringworm       1.00      1.00      1.00         1\n",
      "      Squamous cell carcinoma       1.00      1.00      1.00         2\n",
      "             Tooth Resorption       0.00      0.00      0.00         0\n",
      " Upper Respiratory Infections       1.00      1.00      1.00         2\n",
      "                        Worms       1.00      1.00      1.00         1\n",
      "               kidney disease       0.00      0.00      0.00         0\n",
      "\n",
      "                     accuracy                           0.79        24\n",
      "                    macro avg       0.69      0.67      0.66        24\n",
      "                 weighted avg       0.85      0.79      0.81        24\n",
      "\n"
     ]
    },
    {
     "name": "stderr",
     "output_type": "stream",
     "text": [
      "C:\\Users\\Nilki\\anaconda3\\lib\\site-packages\\sklearn\\metrics\\_classification.py:1318: UndefinedMetricWarning: Precision and F-score are ill-defined and being set to 0.0 in labels with no predicted samples. Use `zero_division` parameter to control this behavior.\n",
      "  _warn_prf(average, modifier, msg_start, len(result))\n",
      "C:\\Users\\Nilki\\anaconda3\\lib\\site-packages\\sklearn\\metrics\\_classification.py:1318: UndefinedMetricWarning: Recall and F-score are ill-defined and being set to 0.0 in labels with no true samples. Use `zero_division` parameter to control this behavior.\n",
      "  _warn_prf(average, modifier, msg_start, len(result))\n",
      "C:\\Users\\Nilki\\anaconda3\\lib\\site-packages\\sklearn\\metrics\\_classification.py:1318: UndefinedMetricWarning: Precision and F-score are ill-defined and being set to 0.0 in labels with no predicted samples. Use `zero_division` parameter to control this behavior.\n",
      "  _warn_prf(average, modifier, msg_start, len(result))\n",
      "C:\\Users\\Nilki\\anaconda3\\lib\\site-packages\\sklearn\\metrics\\_classification.py:1318: UndefinedMetricWarning: Recall and F-score are ill-defined and being set to 0.0 in labels with no true samples. Use `zero_division` parameter to control this behavior.\n",
      "  _warn_prf(average, modifier, msg_start, len(result))\n",
      "C:\\Users\\Nilki\\anaconda3\\lib\\site-packages\\sklearn\\metrics\\_classification.py:1318: UndefinedMetricWarning: Precision and F-score are ill-defined and being set to 0.0 in labels with no predicted samples. Use `zero_division` parameter to control this behavior.\n",
      "  _warn_prf(average, modifier, msg_start, len(result))\n",
      "C:\\Users\\Nilki\\anaconda3\\lib\\site-packages\\sklearn\\metrics\\_classification.py:1318: UndefinedMetricWarning: Recall and F-score are ill-defined and being set to 0.0 in labels with no true samples. Use `zero_division` parameter to control this behavior.\n",
      "  _warn_prf(average, modifier, msg_start, len(result))\n"
     ]
    }
   ],
   "source": [
    "# Print a classification report for more detailed evaluation\n",
    "classification_report_str = classification_report(y_test, y_pred)\n",
    "print(classification_report_str)"
   ]
  },
  {
   "cell_type": "code",
   "execution_count": 17,
   "id": "7fc2c66c",
   "metadata": {},
   "outputs": [],
   "source": [
    "#Out of 24 tests about 5 failed"
   ]
  },
  {
   "cell_type": "code",
   "execution_count": 18,
   "id": "3a3e6c45",
   "metadata": {},
   "outputs": [],
   "source": [
    "from sklearn.metrics import confusion_matrix\n",
    "import seaborn as sns\n",
    "import matplotlib.pyplot as plt"
   ]
  },
  {
   "cell_type": "code",
   "execution_count": 19,
   "id": "992f7a06",
   "metadata": {},
   "outputs": [],
   "source": [
    "# Generate confusion matrix\n",
    "conf_matrix = confusion_matrix(y_test, y_pred)"
   ]
  },
  {
   "cell_type": "code",
   "execution_count": 20,
   "id": "5d33058b",
   "metadata": {},
   "outputs": [
    {
     "data": {
      "image/png": "[encoded data removed]",
      "text/plain": [
       "<Figure size 720x576 with 1 Axes>"
      ]
     },
     "metadata": {
      "needs_background": "light"
     },
     "output_type": "display_data"
    }
   ],
   "source": [
    "# Plot confusion matrix\n",
    "plt.figure(figsize=(10, 8))\n",
    "sns.heatmap(conf_matrix, annot=True, fmt=\"d\", cmap=\"Blues\", cbar=False, \n",
    "            xticklabels=classifier.classes_, yticklabels=classifier.classes_)\n",
    "plt.xlabel('Predicted Label')\n",
    "plt.ylabel('True Label')\n",
    "plt.title('Confusion Matrix')\n",
    "plt.show()"
   ]
  },
  {
   "cell_type": "code",
   "execution_count": 25,
   "id": "ada004d2",
   "metadata": {},
   "outputs": [],
   "source": [
    "import numpy as np"
   ]
  },
  {
   "cell_type": "code",
   "execution_count": 26,
   "id": "37d9654c",
   "metadata": {},
   "outputs": [],
   "source": [
    "# Get unique classes from y_test and y_pred\n",
    "classes = sorted(np.unique(np.concatenate((y_test, y_pred))))"
   ]
  },
  {
   "cell_type": "code",
   "execution_count": 27,
   "id": "9654ad79",
   "metadata": {},
   "outputs": [],
   "source": [
    "# Convert confusion matrix array to DataFrame\n",
    "conf_matrix_df = pd.DataFrame(conf_matrix, index=classes, columns=classes)"
   ]
  },
  {
   "cell_type": "code",
   "execution_count": 28,
   "id": "a9b9b326",
   "metadata": {},
   "outputs": [
    {
     "name": "stdout",
     "output_type": "stream",
     "text": [
      "Confusion Matrix:\n",
      "                               Diabetes  Feline Immunodeficiency Virus  \\\n",
      "Diabetes                              1                              0   \n",
      "Feline Immunodeficiency Virus         0                              1   \n",
      "Feline Leukemia Virus                 0                              0   \n",
      "Gingivitis                            0                              0   \n",
      "Heartworm                             0                              0   \n",
      "Hyperthyroidism                       0                              0   \n",
      "Lymphosarcoma                         1                              0   \n",
      "Pancreatitis                          0                              0   \n",
      "Periodontitis                         0                              0   \n",
      "Rabies                                0                              0   \n",
      "Ringworm                              0                              0   \n",
      "Squamous cell carcinoma               0                              0   \n",
      "Tooth Resorption                      0                              0   \n",
      "Upper Respiratory Infections          0                              0   \n",
      "Worms                                 0                              0   \n",
      "kidney disease                        0                              0   \n",
      "\n",
      "                               Feline Leukemia Virus  Gingivitis  Heartworm  \\\n",
      "Diabetes                                           0           0          0   \n",
      "Feline Immunodeficiency Virus                      0           0          0   \n",
      "Feline Leukemia Virus                              2           0          0   \n",
      "Gingivitis                                         0           3          0   \n",
      "Heartworm                                          0           0          2   \n",
      "Hyperthyroidism                                    0           0          0   \n",
      "Lymphosarcoma                                      0           0          0   \n",
      "Pancreatitis                                       0           0          0   \n",
      "Periodontitis                                      0           0          0   \n",
      "Rabies                                             0           0          0   \n",
      "Ringworm                                           0           0          0   \n",
      "Squamous cell carcinoma                            0           0          0   \n",
      "Tooth Resorption                                   0           0          0   \n",
      "Upper Respiratory Infections                       0           0          0   \n",
      "Worms                                              0           0          0   \n",
      "kidney disease                                     0           0          0   \n",
      "\n",
      "                               Hyperthyroidism  Lymphosarcoma  Pancreatitis  \\\n",
      "Diabetes                                     0              0             0   \n",
      "Feline Immunodeficiency Virus                0              0             0   \n",
      "Feline Leukemia Virus                        0              0             0   \n",
      "Gingivitis                                   0              0             0   \n",
      "Heartworm                                    0              0             0   \n",
      "Hyperthyroidism                              0              0             0   \n",
      "Lymphosarcoma                                0              1             0   \n",
      "Pancreatitis                                 0              0             1   \n",
      "Periodontitis                                0              0             0   \n",
      "Rabies                                       0              0             1   \n",
      "Ringworm                                     0              0             0   \n",
      "Squamous cell carcinoma                      0              0             0   \n",
      "Tooth Resorption                             0              0             0   \n",
      "Upper Respiratory Infections                 0              0             0   \n",
      "Worms                                        0              0             0   \n",
      "kidney disease                               0              0             0   \n",
      "\n",
      "                               Periodontitis  Rabies  Ringworm  \\\n",
      "Diabetes                                   0       0         0   \n",
      "Feline Immunodeficiency Virus              0       0         0   \n",
      "Feline Leukemia Virus                      0       0         0   \n",
      "Gingivitis                                 0       0         0   \n",
      "Heartworm                                  0       0         0   \n",
      "Hyperthyroidism                            0       0         0   \n",
      "Lymphosarcoma                              0       0         0   \n",
      "Pancreatitis                               0       0         0   \n",
      "Periodontitis                              2       0         0   \n",
      "Rabies                                     0       0         0   \n",
      "Ringworm                                   0       0         1   \n",
      "Squamous cell carcinoma                    0       0         0   \n",
      "Tooth Resorption                           0       0         0   \n",
      "Upper Respiratory Infections               0       0         0   \n",
      "Worms                                      0       0         0   \n",
      "kidney disease                             0       0         0   \n",
      "\n",
      "                               Squamous cell carcinoma  Tooth Resorption  \\\n",
      "Diabetes                                             0                 0   \n",
      "Feline Immunodeficiency Virus                        0                 0   \n",
      "Feline Leukemia Virus                                0                 0   \n",
      "Gingivitis                                           0                 0   \n",
      "Heartworm                                            0                 0   \n",
      "Hyperthyroidism                                      0                 0   \n",
      "Lymphosarcoma                                        0                 0   \n",
      "Pancreatitis                                         0                 1   \n",
      "Periodontitis                                        0                 1   \n",
      "Rabies                                               0                 0   \n",
      "Ringworm                                             0                 0   \n",
      "Squamous cell carcinoma                              2                 0   \n",
      "Tooth Resorption                                     0                 0   \n",
      "Upper Respiratory Infections                         0                 0   \n",
      "Worms                                                0                 0   \n",
      "kidney disease                                       0                 0   \n",
      "\n",
      "                               Upper Respiratory Infections  Worms  \\\n",
      "Diabetes                                                  0      0   \n",
      "Feline Immunodeficiency Virus                             0      0   \n",
      "Feline Leukemia Virus                                     0      0   \n",
      "Gingivitis                                                0      0   \n",
      "Heartworm                                                 0      0   \n",
      "Hyperthyroidism                                           0      0   \n",
      "Lymphosarcoma                                             0      0   \n",
      "Pancreatitis                                              0      0   \n",
      "Periodontitis                                             0      0   \n",
      "Rabies                                                    0      0   \n",
      "Ringworm                                                  0      0   \n",
      "Squamous cell carcinoma                                   0      0   \n",
      "Tooth Resorption                                          0      0   \n",
      "Upper Respiratory Infections                              2      0   \n",
      "Worms                                                     0      1   \n",
      "kidney disease                                            0      0   \n",
      "\n",
      "                               kidney disease  \n",
      "Diabetes                                    0  \n",
      "Feline Immunodeficiency Virus               0  \n",
      "Feline Leukemia Virus                       0  \n",
      "Gingivitis                                  0  \n",
      "Heartworm                                   0  \n",
      "Hyperthyroidism                             1  \n",
      "Lymphosarcoma                               0  \n",
      "Pancreatitis                                0  \n",
      "Periodontitis                               0  \n",
      "Rabies                                      0  \n",
      "Ringworm                                    0  \n",
      "Squamous cell carcinoma                     0  \n",
      "Tooth Resorption                            0  \n",
      "Upper Respiratory Infections                0  \n",
      "Worms                                       0  \n",
      "kidney disease                              0  \n"
     ]
    }
   ],
   "source": [
    "# Display the confusion matrix as a table\n",
    "print(\"Confusion Matrix:\")\n",
    "print(conf_matrix_df)"
   ]
  },
  {
   "cell_type": "code",
   "execution_count": null,
   "id": "0789059e",
   "metadata": {},
   "outputs": [],
   "source": []
  }
 ],
 "metadata": {
  "kernelspec": {
   "display_name": "Python 3 (ipykernel)",
   "language": "python",
   "name": "python3"
  },
  "language_info": {
   "codemirror_mode": {
    "name": "ipython",
    "version": 3
   },
   "file_extension": ".py",
   "mimetype": "text/x-python",
   "name": "python",
   "nbconvert_exporter": "python",
   "pygments_lexer": "ipython3",
   "version": "3.9.12"
  }
 },
 "nbformat": 4,
 "nbformat_minor": 5
}
